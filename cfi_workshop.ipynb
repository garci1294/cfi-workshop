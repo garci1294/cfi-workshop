{
 "cells": [
  {
   "cell_type": "code",
   "execution_count": 3,
   "metadata": {
    "vscode": {
     "languageId": "r"
    }
   },
   "outputs": [],
   "source": [
    "# library packages\n",
    "suppressPackageStartupMessages({\n",
    "  library(Seurat)\n",
    "  library(tidyverse)\n",
    "})"
   ]
  },
  {
   "cell_type": "code",
   "execution_count": 4,
   "metadata": {
    "vscode": {
     "languageId": "r"
    }
   },
   "outputs": [],
   "source": [
    "for (file in c(\"ctrl_raw_feature_bc_matrix\", \"stim_raw_feature_bc_matrix\")){\n",
    "        seurat_data <- Read10X(data.dir = paste0(\"/Users/jega7008/Desktop/single_cell_rnaseq/data/\", file))\n",
    "        seurat_obj <- CreateSeuratObject(counts = seurat_data, \n",
    "                                         min.features = 100, \n",
    "                                         project = file)\n",
    "        assign(file, seurat_obj)\n",
    "}"
   ]
  },
  {
   "cell_type": "code",
   "execution_count": null,
   "metadata": {
    "vscode": {
     "languageId": "r"
    }
   },
   "outputs": [],
   "source": [
    "# Check the metadata in the new Seurat objects\n",
    "head(ctrl_raw_feature_bc_matrix@meta.data)\n",
    "head(stim_raw_feature_bc_matrix@meta.data)"
   ]
  },
  {
   "cell_type": "code",
   "execution_count": 6,
   "metadata": {
    "vscode": {
     "languageId": "r"
    }
   },
   "outputs": [],
   "source": [
    "# Create a merged Seurat object\n",
    "merged_seurat <- merge(x = ctrl_raw_feature_bc_matrix, \n",
    "                       y = stim_raw_feature_bc_matrix, \n",
    "                       add.cell.id = c(\"ctrl\", \"stim\"))\n",
    "\n",
    "# Concatenate the count matrices of both samples together\n",
    "merged_seurat <- JoinLayers(merged_seurat)                            "
   ]
  },
  {
   "cell_type": "code",
   "execution_count": null,
   "metadata": {
    "vscode": {
     "languageId": "r"
    }
   },
   "outputs": [],
   "source": [
    "# Check that the merged object has the appropriate sample-specific prefixes\n",
    "head(merged_seurat@meta.data)\n",
    "tail(merged_seurat@meta.data)"
   ]
  },
  {
   "cell_type": "code",
   "execution_count": null,
   "metadata": {
    "vscode": {
     "languageId": "r"
    }
   },
   "outputs": [],
   "source": [
    "# Explore merged metadata\n",
    "View(merged_seurat@meta.data)"
   ]
  },
  {
   "cell_type": "code",
   "execution_count": 9,
   "metadata": {
    "vscode": {
     "languageId": "r"
    }
   },
   "outputs": [],
   "source": [
    "# Add number of genes per UMI for each cell to metadata\n",
    "merged_seurat$log10GenesPerUMI <- log10(merged_seurat$nFeature_RNA) / log10(merged_seurat$nCount_RNA)\n",
    "\n",
    "# Compute percent mito ratio\n",
    "merged_seurat$mitoRatio <- PercentageFeatureSet(object = merged_seurat, pattern = \"^MT-\")\n",
    "merged_seurat$mitoRatio <- merged_seurat@meta.data$mitoRatio / 100\n",
    "\n",
    "# Create metadata dataframe\n",
    "metadata <- merged_seurat@meta.data\n",
    "\n",
    "# Add cell IDs to metadata\n",
    "metadata$cells <- rownames(metadata)\n",
    "\n",
    "# Create sample column\n",
    "metadata$sample <- NA\n",
    "metadata$sample[which(str_detect(metadata$cells, \"^ctrl_\"))] <- \"ctrl\"\n",
    "metadata$sample[which(str_detect(metadata$cells, \"^stim_\"))] <- \"stim\"\n",
    "\n",
    "# Rename columns\n",
    "metadata <- metadata %>%\n",
    "        dplyr::rename(seq_folder = orig.ident,\n",
    "                      nUMI = nCount_RNA,\n",
    "                      nGene = nFeature_RNA)\n",
    "\n",
    "# Add metadata back to Seurat object\n",
    "merged_seurat@meta.data <- metadata"
   ]
  },
  {
   "cell_type": "code",
   "execution_count": 10,
   "metadata": {
    "vscode": {
     "languageId": "r"
    }
   },
   "outputs": [],
   "source": [
    "# Filter out low-quality cells using selected thresholds - these will change with the experiment\n",
    "filtered_seurat <- subset(merged_seurat, \n",
    "                          subset= nUMI >= 500 &\n",
    "                          nGene >= 250 &\n",
    "                          log10GenesPerUMI > 0.80 & \n",
    "                          mitoRatio < 0.20)"
   ]
  },
  {
   "cell_type": "code",
   "execution_count": null,
   "metadata": {
    "vscode": {
     "languageId": "r"
    }
   },
   "outputs": [],
   "source": [
    "# Extract counts\n",
    "counts <- GetAssayData(object = filtered_seurat, slot = \"counts\")\n",
    "\n",
    "# Output a logical matrix specifying for each gene whether or not there are more than zero counts per cell\n",
    "nonzero <- counts > 0\n",
    "# Sums all TRUE values and returns TRUE if more than 100 TRUE values per gene\n",
    "keep_genes <- Matrix::rowSums(nonzero) >= 100\n",
    "\n",
    "# Only keeping those genes expressed in more than 100 cells\n",
    "filtered_counts <- counts[keep_genes, ]\n",
    "# Reassign to filtered Seurat object\n",
    "filtered_seurat <- CreateSeuratObject(filtered_counts, meta.data = filtered_seurat@meta.data)"
   ]
  },
  {
   "cell_type": "code",
   "execution_count": null,
   "metadata": {
    "vscode": {
     "languageId": "r"
    }
   },
   "outputs": [],
   "source": [
    "# Save filtered subset to new metadata\n",
    "metadata_clean <- filtered_seurat@meta.data\n",
    "\n",
    "# to see a drop in filtering cells:\n",
    "\n",
    "met_before <- data.frame(unclass(table(metadata$seq_folder)))\n",
    "met_before$QCgroup <- \"before\"\n",
    "met_before$cell<- rownames(met_before)\n",
    "names(met_before)[1] <- 'count'\n",
    "\n",
    "met_after <- data.frame(unclass(table(metadata_clean$seq_folder)))\n",
    "met_after$QCgroup <- \"after\"\n",
    "met_after$cell<- rownames(met_after)\n",
    "names(met_after)[1] <- 'count'\n",
    "# count\n",
    "cell_count <- data.frame(rbind(met_before, met_after))\n",
    "\n",
    "                                \n",
    "# visualization :\n",
    "cell_count %>% ggplot(aes(x=cell, y=count, fill=QCgroup)) + \n",
    "  geom_bar(stat=\"identity\", position=position_dodge()) +\n",
    "  theme_classic() +\n",
    "  theme(axis.text.x = element_text(angle = 45, vjust = 1, hjust=1)) +\n",
    "  theme(plot.title = element_text(hjust=0.5, face=\"bold\")) +\n",
    "  xlab(\"samples\") +\n",
    "  ggtitle(\"nCells count before and after QC\")"
   ]
  },
  {
   "cell_type": "code",
   "execution_count": null,
   "metadata": {
    "vscode": {
     "languageId": "r"
    }
   },
   "outputs": [],
   "source": [
    "# Normalize the counts\n",
    "seurat_phase <- NormalizeData(filtered_seurat)\n",
    "\n",
    "# Load cell cycle markers\n",
    "load(\"/Users/jega7008/Desktop/single_cell_rnaseq/data/cycle.rda\")\n",
    "\n",
    "# Score cells for cell cycle\n",
    "seurat_phase <- CellCycleScoring(seurat_phase, \n",
    "                                 g2m.features = g2m_genes, \n",
    "                                 s.features = s_genes)"
   ]
  },
  {
   "cell_type": "code",
   "execution_count": null,
   "metadata": {
    "vscode": {
     "languageId": "r"
    }
   },
   "outputs": [],
   "source": [
    "# Identify the most variable genes\n",
    "seurat_phase <- FindVariableFeatures(seurat_phase, \n",
    "                     selection.method = \"vst\",\n",
    "                     nfeatures = 2000, \n",
    "                     verbose = FALSE)\n",
    "\n",
    "\n",
    "# Check quartile values for mitoRatio, we will use this variable later to mitigate the unwanted sources of variation in the dataset\n",
    "summary(seurat_phase@meta.data$mitoRatio)\n"
   ]
  },
  {
   "cell_type": "code",
   "execution_count": null,
   "metadata": {
    "vscode": {
     "languageId": "r"
    }
   },
   "outputs": [],
   "source": [
    "# Scale the counts\n",
    "seurat_phase <- ScaleData(seurat_phase)\n",
    "\n",
    "# Perform PCA\n",
    "seurat_phase <- RunPCA(seurat_phase)\n",
    "\n",
    "# Plot the PCA colored by cell cycle phase\n",
    "no_split <- DimPlot(seurat_phase,\n",
    "        reduction = \"pca\",\n",
    "        group.by= \"Phase\")\n",
    "        \n",
    "with_split <- DimPlot(seurat_phase,\n",
    "        reduction = \"pca\",\n",
    "        group.by= \"Phase\",\n",
    "        split.by= \"Phase\")\n",
    "\n",
    "no_split + with_split"
   ]
  },
  {
   "cell_type": "code",
   "execution_count": null,
   "metadata": {
    "vscode": {
     "languageId": "r"
    }
   },
   "outputs": [],
   "source": [
    "# Turn mitoRatio into categorical factor vector based on quartile values\n",
    "seurat_phase@meta.data$mitoFr <- cut(seurat_phase@meta.data$mitoRatio, \n",
    "                   breaks=c(-Inf, 0.01438, 0.01993, 0.02669, Inf), \n",
    "                   labels=c(\"Low\",\"Medium\",\"Medium high\", \"High\"))\n",
    "                   \n",
    "# Plot the PCA colored by mitochondrial expression\n",
    "no_split <- DimPlot(seurat_phase,\n",
    "        reduction = \"pca\",\n",
    "        group.by= \"mitoFr\")\n",
    "        \n",
    "with_split <- DimPlot(seurat_phase,\n",
    "        reduction = \"pca\",\n",
    "        group.by= \"mitoFr\",\n",
    "        split.by= \"mitoFr\")\n",
    "        \n",
    "no_split + with_split"
   ]
  },
  {
   "cell_type": "code",
   "execution_count": null,
   "metadata": {
    "vscode": {
     "languageId": "r"
    }
   },
   "outputs": [],
   "source": [
    "# Split seurat object by condition to perform cell cycle scoring and SCT on all samples\n",
    "split_seurat <- SplitObject(seurat_phase, split.by = \"sample\")\n",
    "\n",
    "options(future.globals.maxSize = 4000 * 1024^2)\n",
    "\n",
    "for (i in 1:length(split_seurat)) {\n",
    "    split_seurat[[i]] <- SCTransform(split_seurat[[i]], vars.to.regress = c(\"mitoRatio\"), vst.flavor = \"v2\")\n",
    "    }\n",
    "\n",
    "gc()\n",
    "# Select the most variable features to use for integration\n",
    "integ_features <- SelectIntegrationFeatures(object.list = split_seurat, \n",
    "                                            nfeatures = 3000)\n",
    "\n",
    "gc()\n",
    "# Prepare the SCT list object for integration\n",
    "split_seurat <- PrepSCTIntegration(object.list = split_seurat, \n",
    "                                   anchor.features = integ_features)\n",
    "\n",
    "gc()\n",
    "# Run PCA on Split Seurat Object\n",
    "split_seurat <- lapply(X = split_seurat, FUN = RunPCA, features = integ_features)\n",
    "\n",
    "# Find best buddies - can take a while to run\n",
    "gc()\n",
    "integ_anchors <- FindIntegrationAnchors(object.list = split_seurat, \n",
    "                                        normalization.method = \"SCT\",\n",
    "                                        reduction = \"rpca\",\n",
    "                                        anchor.features = integ_features)\n",
    "\n",
    "gc()\n",
    "seurat_integrated <- IntegrateData(anchorset = integ_anchors, \n",
    "                                   normalization.method = \"SCT\")\n",
    "\n",
    "# Rejoin the layers in the RNA assay that we split earlier\n",
    "seurat_integrated[[\"RNA\"]] <- JoinLayers(seurat_integrated[[\"RNA\"]])\n",
    "                                "
   ]
  },
  {
   "cell_type": "code",
   "execution_count": null,
   "metadata": {
    "vscode": {
     "languageId": "r"
    }
   },
   "outputs": [],
   "source": [
    "# Run PCA\n",
    "seurat_integrated <- RunPCA(object = seurat_integrated)\n",
    "\n",
    "# Plot PCA\n",
    "PCAPlot(seurat_integrated,\n",
    "        split.by = \"sample\")\n",
    "\n",
    "# Set seed\n",
    "set.seed(123456)\n",
    "\n",
    "# Run UMAP\n",
    "seurat_integrated <- RunUMAP(seurat_integrated, \n",
    "                             dims = 1:40,\n",
    "\t\t\t                 reduction = \"pca\")\n",
    "\n",
    "# Plot UMAP                             \n",
    "DimPlot(seurat_integrated)\n",
    "\n",
    "# Determine the K-nearest neighbor graph\n",
    "seurat_integrated <- FindNeighbors(object = seurat_integrated, \n",
    "                                dims = 1:40)\n",
    "\n",
    "# Determine the clusters for various resolutions                                \n",
    "seurat_integrated <- FindClusters(object = seurat_integrated,\n",
    "                               resolution = c(0.4, 0.6, 0.8, 1.0, 1.4))\n",
    "\n",
    "# Assign identity of clusters\n",
    "Idents(object = seurat_integrated) <- \"integrated_snn_res.0.4\"\n",
    "\n",
    "# Plot the UMAP\n",
    "DimPlot(seurat_integrated,\n",
    "        reduction = \"umap\",\n",
    "        label = TRUE,\n",
    "        label.size = 6)"
   ]
  },
  {
   "cell_type": "code",
   "execution_count": null,
   "metadata": {
    "vscode": {
     "languageId": "r"
    }
   },
   "outputs": [],
   "source": [
    "# Extract identity and sample information from seurat object to determine the number of cells per cluster per sample\n",
    "n_cells <- FetchData(seurat_integrated, \n",
    "                     vars = c(\"ident\", \"sample\")) %>%\n",
    "        dplyr::count(ident, sample)\n",
    "\n",
    "# Barplot of number of cells per cluster by sample\n",
    "ggplot(n_cells, aes(x=ident, y=n, fill=sample)) +\n",
    "    geom_bar(position=position_dodge(), stat=\"identity\") +\n",
    "    geom_text(aes(label=n), vjust = -.2, position=position_dodge(1))"
   ]
  },
  {
   "cell_type": "code",
   "execution_count": null,
   "metadata": {
    "vscode": {
     "languageId": "r"
    }
   },
   "outputs": [],
   "source": [
    "# UMAP of cells in each cluster by sample\n",
    "DimPlot(seurat_integrated, \n",
    "        label = TRUE, \n",
    "        split.by = \"sample\")  + NoLegend()"
   ]
  },
  {
   "cell_type": "code",
   "execution_count": null,
   "metadata": {
    "vscode": {
     "languageId": "r"
    }
   },
   "outputs": [],
   "source": [
    "# Barplot of proportion of cells in each cluster by sample\n",
    "ggplot(seurat_integrated@meta.data) +\n",
    "    geom_bar(aes(x=integrated_snn_res.0.8, fill=sample), position=position_fill()) "
   ]
  },
  {
   "cell_type": "code",
   "execution_count": null,
   "metadata": {
    "vscode": {
     "languageId": "r"
    }
   },
   "outputs": [],
   "source": [
    "# Explore whether clusters segregate by cell cycle phase\n",
    "DimPlot(seurat_integrated,\n",
    "        label = TRUE, \n",
    "        split.by = \"Phase\")  + NoLegend()"
   ]
  },
  {
   "cell_type": "code",
   "execution_count": null,
   "metadata": {
    "vscode": {
     "languageId": "r"
    }
   },
   "outputs": [],
   "source": [
    "# Determine metrics to plot present in seurat_integrated@meta.data\n",
    "metrics <-  c(\"nUMI\", \"nGene\", \"S.Score\", \"G2M.Score\", \"mitoRatio\")\n",
    "\n",
    "FeaturePlot(seurat_integrated, \n",
    "            reduction = \"umap\", \n",
    "            features = metrics,\n",
    "            pt.size = 0.4, \n",
    "            order = TRUE,\n",
    "            min.cutoff = 'q10',\n",
    "            label = TRUE)"
   ]
  },
  {
   "cell_type": "code",
   "execution_count": null,
   "metadata": {
    "vscode": {
     "languageId": "r"
    }
   },
   "outputs": [],
   "source": [
    "DimPlot(object = seurat_integrated, \n",
    "        reduction = \"umap\", \n",
    "        label = TRUE) + NoLegend()"
   ]
  },
  {
   "cell_type": "code",
   "execution_count": null,
   "metadata": {
    "vscode": {
     "languageId": "r"
    }
   },
   "outputs": [],
   "source": [
    "# CD14+ monocyte markers\n",
    "FeaturePlot(seurat_integrated, \n",
    "            reduction = \"umap\", \n",
    "            features = c(\"CD14\", \"LYZ\"), \n",
    "            order = TRUE,\n",
    "            min.cutoff = 'q10', \n",
    "            label = TRUE)"
   ]
  },
  {
   "cell_type": "code",
   "execution_count": null,
   "metadata": {
    "vscode": {
     "languageId": "r"
    }
   },
   "outputs": [],
   "source": [
    "#FCGR3A+ monocyte markers\n",
    "FeaturePlot(seurat_integrated, \n",
    "            reduction = \"umap\", \n",
    "            features = c(\"FCGR3A\", \"MS4A7\"), \n",
    "            order = TRUE,\n",
    "            min.cutoff = 'q10', \n",
    "            label = TRUE)"
   ]
  },
  {
   "cell_type": "code",
   "execution_count": null,
   "metadata": {
    "vscode": {
     "languageId": "r"
    }
   },
   "outputs": [],
   "source": [
    "# Conventional dendritic cell markers\n",
    "FeaturePlot(seurat_integrated, \n",
    "            reduction = \"umap\", \n",
    "            features = c(\"FCER1A\", \"CST3\"), \n",
    "            order = TRUE,\n",
    "            min.cutoff = 'q10', \n",
    "            label = TRUE)"
   ]
  },
  {
   "cell_type": "code",
   "execution_count": null,
   "metadata": {
    "vscode": {
     "languageId": "r"
    }
   },
   "outputs": [],
   "source": [
    "# Plasmacytoid dendritic cell markers\n",
    "FeaturePlot(seurat_integrated, \n",
    "            reduction = \"umap\", \n",
    "            features = c(\"IL3RA\", \"GZMB\", \"SERPINF1\", \"ITM2C\"), \n",
    "            order = TRUE,\n",
    "            min.cutoff = 'q10', \n",
    "            label = TRUE)"
   ]
  },
  {
   "cell_type": "code",
   "execution_count": null,
   "metadata": {
    "vscode": {
     "languageId": "r"
    }
   },
   "outputs": [],
   "source": [
    "# List of known celltype markers\n",
    "markers <- list()\n",
    "markers[[\"CD14+ monocytes\"]] <- c(\"CD14\", \"LYZ\")\n",
    "markers[[\"FCGR3A+ monocyte\"]] <- c(\"FCGR3A\", \"MS4A7\")\n",
    "markers[[\"Conventional dendritic\"]] <- c(\"FCER1A\", \"CST3\")\n",
    "markers[[\"Plasmacytoid dendritic\"]] <- c(\"IL3RA\", \"GZMB\", \"SERPINF1\", \"ITM2C\")\n",
    "\n",
    "# Create dotplot based on RNA expression\n",
    "DotPlot(seurat_integrated, markers, assay=\"RNA\")"
   ]
  },
  {
   "cell_type": "code",
   "execution_count": null,
   "metadata": {
    "vscode": {
     "languageId": "r"
    }
   },
   "outputs": [],
   "source": [
    "# Plot interesting marker gene expression for cluster 4\n",
    "FeaturePlot(object = seurat_integrated, \n",
    "                        features = c(\"HSPH1\", \"HSPE1\", \"DNAJB1\"),\n",
    "                         order = TRUE,\n",
    "                         min.cutoff = 'q10', \n",
    "                         label = TRUE,\n",
    "\t\t\t repel = TRUE)\n"
   ]
  },
  {
   "cell_type": "code",
   "execution_count": 40,
   "metadata": {
    "vscode": {
     "languageId": "r"
    }
   },
   "outputs": [],
   "source": [
    "# Rename all identities\n",
    "seurat_integrated <- RenameIdents(object = seurat_integrated, \n",
    "                               \"0\" = \"Naive or memory CD4+ T cells\",\n",
    "                               \"1\" = \"Activated T cells\",\n",
    "                               \"2\" = \"CD14+ monocytes\",\n",
    "                               \"3\" = \"CD14+ monocytes\",\n",
    "                               \"4\" = \"CD8+ T cells\",\n",
    "                               \"5\" = \"NK cells\",\n",
    "                               \"6\" = \"Stressed cells / Unknown\",\n",
    "                               \"7\" = \"B cells\",\n",
    "                               \"8\" = \"Naive or memory CD4+ T cells\",\n",
    "                               \"9\" = \"FCGR3A+ monocytes\",\n",
    "                               \"10\" = \"B cells\",\n",
    "                               \"11\" = \"Conventional dendritic cells\",\n",
    "                               \"12\" = \"Megakaryocytes\",\n",
    "                               \"13\" = \"Megakaryocytes\",\n",
    "                               \"14\" = \"Plasmacytoid dendritic cells\")"
   ]
  },
  {
   "cell_type": "code",
   "execution_count": null,
   "metadata": {
    "vscode": {
     "languageId": "r"
    }
   },
   "outputs": [],
   "source": [
    "# Plot the UMAP\n",
    "DimPlot(object = seurat_integrated, \n",
    "        reduction = \"umap\", \n",
    "        label = TRUE,\n",
    "        label.size = 3,\n",
    "        repel = TRUE)"
   ]
  },
  {
   "cell_type": "code",
   "execution_count": null,
   "metadata": {
    "vscode": {
     "languageId": "r"
    }
   },
   "outputs": [],
   "source": [
    "# Remove the stressed or dying cells\n",
    "seurat_subset_labeled <- subset(seurat_integrated,\n",
    "                               idents = \"Stressed cells / Unknown\", invert = TRUE)\n",
    "\n",
    "# Re-visualize the clusters\n",
    "DimPlot(object = seurat_subset_labeled, \n",
    "        reduction = \"umap\", \n",
    "        label = TRUE,\n",
    "        label.size = 3,\n",
    "\trepel = TRUE)"
   ]
  },
  {
   "cell_type": "code",
   "execution_count": null,
   "metadata": {
    "vscode": {
     "languageId": "r"
    }
   },
   "outputs": [],
   "source": [
    "# Add celltype annotation as a column in meta.data \n",
    "seurat_subset_labeled$celltype <- Idents(seurat_subset_labeled)\n",
    "\n",
    "# Compute number of cells per celltype\n",
    "n_cells <- FetchData(seurat_subset_labeled, \n",
    "                     vars = c(\"celltype\", \"sample\")) %>%\n",
    "        dplyr::count(celltype, sample)\n",
    "\n",
    "# Barplot of number of cells per celltype by sample\n",
    "ggplot(n_cells, aes(x=celltype, y=n, fill=sample)) +\n",
    "    geom_bar(position=position_dodge(), stat=\"identity\") +\n",
    "    geom_text(aes(label=n), vjust = -.2, position=position_dodge(1))"
   ]
  }
 ],
 "metadata": {
  "kernelspec": {
   "display_name": "R",
   "language": "R",
   "name": "ir"
  },
  "language_info": {
   "codemirror_mode": "r",
   "file_extension": ".r",
   "mimetype": "text/x-r-source",
   "name": "R",
   "pygments_lexer": "r",
   "version": "4.4.1"
  }
 },
 "nbformat": 4,
 "nbformat_minor": 2
}
